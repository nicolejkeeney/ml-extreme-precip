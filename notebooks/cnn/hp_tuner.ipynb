{
 "cells": [
  {
   "cell_type": "markdown",
   "id": "d3139652-2630-4c1c-adaf-ebf9f431abb2",
   "metadata": {},
   "source": [
    "# Tune the hyperparameters \n",
    "Using keras tuner, solve for the optimal hyperparameters "
   ]
  },
  {
   "cell_type": "code",
   "execution_count": 1,
   "id": "1ae613de-db1a-4b4a-8970-d5256f3c0b03",
   "metadata": {
    "execution": {
     "iopub.execute_input": "2023-10-26T03:19:17.363997Z",
     "iopub.status.busy": "2023-10-26T03:19:17.363219Z",
     "iopub.status.idle": "2023-10-26T03:19:20.610457Z",
     "shell.execute_reply": "2023-10-26T03:19:20.609522Z",
     "shell.execute_reply.started": "2023-10-26T03:19:17.363952Z"
    }
   },
   "outputs": [
    {
     "name": "stdout",
     "output_type": "stream",
     "text": [
      "Using TensorFlow backend\n"
     ]
    },
    {
     "name": "stderr",
     "output_type": "stream",
     "text": [
      "2023-10-26 03:19:18.123563: I tensorflow/core/platform/cpu_feature_guard.cc:182] This TensorFlow binary is optimized to use available CPU instructions in performance-critical operations.\n",
      "To enable the following instructions: SSE4.1 SSE4.2 AVX AVX2 FMA, in other operations, rebuild TensorFlow with the appropriate compiler flags.\n"
     ]
    }
   ],
   "source": [
    "import os # Used to make a directory for saving results \n",
    "import xarray as xr \n",
    "import pandas as pd \n",
    "import numpy as np \n",
    "import keras_tuner as kt \n",
    "from tqdm.keras import TqdmCallback # Progress bar during fitting \n",
    "import tensorflow as tf \n",
    "from sklearn.utils.class_weight import compute_class_weight\n",
    "\n",
    "# Import helper functions \n",
    "import sys\n",
    "sys.path.insert(0, '../../utils')\n",
    "from cnn_utils import (\n",
    "    onehot, \n",
    "    build_kt_tuning_model, \n",
    ")"
   ]
  },
  {
   "cell_type": "code",
   "execution_count": 2,
   "id": "0e4c9401-96f2-4e66-9350-c63f9f9e72a4",
   "metadata": {
    "execution": {
     "iopub.execute_input": "2023-10-26T03:19:20.612969Z",
     "iopub.status.busy": "2023-10-26T03:19:20.612166Z",
     "iopub.status.idle": "2023-10-26T03:19:20.618979Z",
     "shell.execute_reply": "2023-10-26T03:19:20.616828Z",
     "shell.execute_reply.started": "2023-10-26T03:19:20.612938Z"
    }
   },
   "outputs": [],
   "source": [
    "# Class 0: no extreme precip \n",
    "# Class 1: extreme precip\n",
    "classes = [0,1]\n",
    "\n",
    "# Columns to use for labels vs. features \n",
    "labels = \"precip_classes\"\n",
    "features_list = [\"slp_anom\",\"hgt_detrended_anom\"]\n",
    "\n",
    "# Reference directories \n",
    "data_dir = \"../../data/input_data_preprocessed/\" # Input data"
   ]
  },
  {
   "cell_type": "code",
   "execution_count": 3,
   "id": "8f9b51f0-2490-48e6-ae02-f6a30c20ff29",
   "metadata": {
    "execution": {
     "iopub.execute_input": "2023-10-26T03:19:20.622443Z",
     "iopub.status.busy": "2023-10-26T03:19:20.621976Z",
     "iopub.status.idle": "2023-10-26T03:19:20.913203Z",
     "shell.execute_reply": "2023-10-26T03:19:20.912092Z",
     "shell.execute_reply.started": "2023-10-26T03:19:20.622415Z"
    }
   },
   "outputs": [],
   "source": [
    "# Read csv as pandas DataFrame object\n",
    "x_train_ds = xr.open_dataset(data_dir+\"training/training_features.nc\")\n",
    "y_train_df = pd.read_csv(data_dir+\"training/training_labels.csv\", index_col=False)\n",
    "\n",
    "x_val_ds = xr.open_dataset(data_dir+\"validation/validation_features.nc\")\n",
    "y_val_df = pd.read_csv(data_dir+\"validation/validation_labels.csv\", index_col=False)\n",
    "\n",
    "x_test_ds = xr.open_dataset(data_dir+\"testing/testing_features.nc\")\n",
    "y_test_df = pd.read_csv(data_dir+\"testing/testing_labels.csv\", index_col=False)"
   ]
  },
  {
   "cell_type": "code",
   "execution_count": 4,
   "id": "d7b4fc23-0f00-4b14-9b0d-9e57099066d7",
   "metadata": {
    "execution": {
     "iopub.execute_input": "2023-10-26T03:19:20.914836Z",
     "iopub.status.busy": "2023-10-26T03:19:20.914560Z",
     "iopub.status.idle": "2023-10-26T03:19:20.991899Z",
     "shell.execute_reply": "2023-10-26T03:19:20.990578Z",
     "shell.execute_reply.started": "2023-10-26T03:19:20.914816Z"
    }
   },
   "outputs": [],
   "source": [
    "# Convert to numpy arrays\n",
    "x_train = x_train_ds.to_array().transpose(\"time\",\"lat\",\"lon\",\"variable\").values\n",
    "y_train = y_train_df[labels].values\n",
    "\n",
    "x_val = x_val_ds.to_array().transpose(\"time\",\"lat\",\"lon\",\"variable\").values\n",
    "y_val = y_val_df[labels].values\n",
    "\n",
    "x_test = x_test_ds.to_array().transpose(\"time\",\"lat\",\"lon\",\"variable\").values\n",
    "y_test = y_test_df[labels].values"
   ]
  },
  {
   "cell_type": "code",
   "execution_count": 5,
   "id": "3e6b9990-bb03-4d28-8856-24b1d2b7a739",
   "metadata": {
    "execution": {
     "iopub.execute_input": "2023-10-26T03:19:20.993710Z",
     "iopub.status.busy": "2023-10-26T03:19:20.993430Z",
     "iopub.status.idle": "2023-10-26T03:19:21.009067Z",
     "shell.execute_reply": "2023-10-26T03:19:21.006380Z",
     "shell.execute_reply.started": "2023-10-26T03:19:20.993690Z"
    }
   },
   "outputs": [
    {
     "name": "stdout",
     "output_type": "stream",
     "text": [
      "{0: 0.5273766893843133, 1: 9.631856540084389}\n"
     ]
    }
   ],
   "source": [
    "# Compute class weights \n",
    "class_weights = compute_class_weight(\n",
    "    class_weight=\"balanced\", \n",
    "    classes=np.array(classes), \n",
    "    y=y_train\n",
    ")\n",
    "class_weights = {classes[0]:class_weights[0], classes[1]:class_weights[1]}\n",
    "print(class_weights)"
   ]
  },
  {
   "cell_type": "code",
   "execution_count": 6,
   "id": "ded175b7-627d-4081-8d0d-a16f96f28fdc",
   "metadata": {
    "execution": {
     "iopub.execute_input": "2023-10-26T03:19:21.011484Z",
     "iopub.status.busy": "2023-10-26T03:19:21.011167Z",
     "iopub.status.idle": "2023-10-26T03:19:21.030758Z",
     "shell.execute_reply": "2023-10-26T03:19:21.028022Z",
     "shell.execute_reply.started": "2023-10-26T03:19:21.011464Z"
    }
   },
   "outputs": [],
   "source": [
    "# Do one hot encoding \n",
    "y_train_onehot = onehot(y_train)\n",
    "y_val_onehot = onehot(y_val)\n",
    "y_test_onehot = onehot(y_test)"
   ]
  },
  {
   "cell_type": "code",
   "execution_count": 7,
   "id": "39948539-d083-4247-897e-6b3223b082d2",
   "metadata": {
    "execution": {
     "iopub.execute_input": "2023-10-26T03:19:21.037063Z",
     "iopub.status.busy": "2023-10-26T03:19:21.036444Z",
     "iopub.status.idle": "2023-10-26T03:19:21.050629Z",
     "shell.execute_reply": "2023-10-26T03:19:21.048816Z",
     "shell.execute_reply.started": "2023-10-26T03:19:21.036993Z"
    }
   },
   "outputs": [],
   "source": [
    "# Model settings \n",
    "early_stopping = tf.keras.callbacks.EarlyStopping(\n",
    "    monitor='val_loss', \n",
    "    patience=10, \n",
    "    restore_best_weights=True\n",
    ")\n",
    "settings = {\n",
    "    \"callbacks\": early_stopping,\n",
    "    \"class_weights\": class_weights, \n",
    "    \"epochs\": 500 # Some big number here. Shouldn't matter too much because we implement early stopping\n",
    "}"
   ]
  },
  {
   "cell_type": "markdown",
   "id": "2cfdb7c8-344c-4154-aeed-3d0c5a1a6d1e",
   "metadata": {},
   "source": [
    "### Tune the model parameters \n",
    "Reference pages: \n",
    "- https://keras.io/guides/keras_tuner/getting_started/\n",
    "- https://neptune.ai/blog/keras-tuner-tuning-hyperparameters-deep-learning-model\n",
    "\n",
    "Note to self: KT objective should be the same as the LOSS. Need to pick one. "
   ]
  },
  {
   "cell_type": "code",
   "execution_count": 8,
   "id": "cc6d3fd8-0552-49b2-92b5-8f432049de68",
   "metadata": {
    "execution": {
     "iopub.execute_input": "2023-10-26T03:19:21.054132Z",
     "iopub.status.busy": "2023-10-26T03:19:21.053417Z",
     "iopub.status.idle": "2023-10-26T03:59:09.053292Z",
     "shell.execute_reply": "2023-10-26T03:59:09.051790Z",
     "shell.execute_reply.started": "2023-10-26T03:19:21.054050Z"
    }
   },
   "outputs": [
    {
     "name": "stdout",
     "output_type": "stream",
     "text": [
      "Trial 30 Complete [00h 01m 38s]\n",
      "val_loss: 0.39463692903518677\n",
      "\n",
      "Best val_loss So Far: 0.32365894317626953\n",
      "Total elapsed time: 00h 39m 48s\n"
     ]
    }
   ],
   "source": [
    "num_trials = 30\n",
    "tuner = kt.RandomSearch( # kt.GridSearch will go through all options \n",
    "    build_kt_tuning_model,\n",
    "    objective=kt.Objective(\"val_loss\", direction=\"min\"),\n",
    "    max_trials=num_trials,\n",
    "    overwrite=True, \n",
    "    project_name='hyperband_tuner'\n",
    ")\n",
    "tuner.search_space_summary()\n",
    "tuner.search(\n",
    "    x_train, y_train_onehot,\n",
    "    validation_data=(x_val, y_val_onehot), \n",
    "    epochs=settings[\"epochs\"],  \n",
    "    class_weight=settings[\"class_weights\"], \n",
    "    callbacks=[settings[\"callbacks\"]], \n",
    ")"
   ]
  },
  {
   "cell_type": "code",
   "execution_count": 10,
   "id": "f0df6765-588d-45b2-91d8-684635300406",
   "metadata": {
    "execution": {
     "iopub.execute_input": "2023-10-26T03:59:19.023018Z",
     "iopub.status.busy": "2023-10-26T03:59:19.022189Z",
     "iopub.status.idle": "2023-10-26T03:59:19.041261Z",
     "shell.execute_reply": "2023-10-26T03:59:19.038143Z",
     "shell.execute_reply.started": "2023-10-26T03:59:19.022973Z"
    }
   },
   "outputs": [
    {
     "name": "stdout",
     "output_type": "stream",
     "text": [
      "Results summary\n",
      "Results in ./hyperband_tuner\n",
      "Showing 5 best trials\n",
      "Objective(name=\"val_loss\", direction=\"min\")\n",
      "\n",
      "Trial 22 summary\n",
      "Hyperparameters:\n",
      "learning_rate: 0.0005\n",
      "activity_reg_factor: 0.0001\n",
      "num_conv_filters: 24\n",
      "num_dense_neurons: 8\n",
      "num_dense_layers: 3\n",
      "random_seed: 70\n",
      "Score: 0.32365894317626953\n",
      "\n",
      "Trial 16 summary\n",
      "Hyperparameters:\n",
      "learning_rate: 0.0005\n",
      "activity_reg_factor: 0.0001\n",
      "num_conv_filters: 8\n",
      "num_dense_neurons: 24\n",
      "num_dense_layers: 2\n",
      "random_seed: 170\n",
      "Score: 0.3691146969795227\n",
      "\n",
      "Trial 20 summary\n",
      "Hyperparameters:\n",
      "learning_rate: 0.0025\n",
      "activity_reg_factor: 0.0001\n",
      "num_conv_filters: 8\n",
      "num_dense_neurons: 32\n",
      "num_dense_layers: 3\n",
      "random_seed: 110\n",
      "Score: 0.3759380578994751\n",
      "\n",
      "Trial 28 summary\n",
      "Hyperparameters:\n",
      "learning_rate: 0.0005\n",
      "activity_reg_factor: 0.0025\n",
      "num_conv_filters: 24\n",
      "num_dense_neurons: 8\n",
      "num_dense_layers: 3\n",
      "random_seed: 200\n",
      "Score: 0.39374178647994995\n",
      "\n",
      "Trial 29 summary\n",
      "Hyperparameters:\n",
      "learning_rate: 0.0005\n",
      "activity_reg_factor: 0.0005\n",
      "num_conv_filters: 24\n",
      "num_dense_neurons: 16\n",
      "num_dense_layers: 2\n",
      "random_seed: 185\n",
      "Score: 0.39463692903518677\n"
     ]
    }
   ],
   "source": [
    "tuner.results_summary(num_trials=5)"
   ]
  },
  {
   "cell_type": "code",
   "execution_count": null,
   "id": "5f34e801-6259-4c8a-964d-03656b080f02",
   "metadata": {},
   "outputs": [],
   "source": []
  }
 ],
 "metadata": {
  "kernelspec": {
   "display_name": "Python 3 (ipykernel)",
   "language": "python",
   "name": "python3"
  },
  "language_info": {
   "codemirror_mode": {
    "name": "ipython",
    "version": 3
   },
   "file_extension": ".py",
   "mimetype": "text/x-python",
   "name": "python",
   "nbconvert_exporter": "python",
   "pygments_lexer": "ipython3",
   "version": "3.10.12"
  }
 },
 "nbformat": 4,
 "nbformat_minor": 5
}
