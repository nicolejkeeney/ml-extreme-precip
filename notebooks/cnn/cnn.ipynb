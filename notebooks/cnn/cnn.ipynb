{
 "cells": [
  {
   "cell_type": "markdown",
   "id": "e908184f-6668-4f2f-a3e2-9f055c746c55",
   "metadata": {},
   "source": [
    "# Convolutional Neural Network"
   ]
  },
  {
   "cell_type": "code",
   "execution_count": 29,
   "id": "da1acfdf-b405-4677-ab47-da94f77f5526",
   "metadata": {
    "execution": {
     "iopub.execute_input": "2023-10-09T21:56:15.339758Z",
     "iopub.status.busy": "2023-10-09T21:56:15.328267Z",
     "iopub.status.idle": "2023-10-09T21:56:15.661493Z",
     "shell.execute_reply": "2023-10-09T21:56:15.659505Z",
     "shell.execute_reply.started": "2023-10-09T21:56:15.339527Z"
    }
   },
   "outputs": [],
   "source": [
    "import xarray as xr \n",
    "import pandas as pd \n",
    "import numpy as np \n",
    "import tensorflow.keras as keras\n",
    "import tensorflow as tf \n",
    "\n",
    "# Import helper functions \n",
    "import sys\n",
    "sys.path.insert(0, '../../utils')\n",
    "from cnn_utils import onehot"
   ]
  },
  {
   "cell_type": "markdown",
   "id": "f84a5602-e8de-4ff9-93a8-d8171db34b1c",
   "metadata": {},
   "source": [
    "## Import input data"
   ]
  },
  {
   "cell_type": "code",
   "execution_count": 2,
   "id": "fa485479-ac30-4704-bc93-fcd410aa2465",
   "metadata": {
    "execution": {
     "iopub.execute_input": "2023-10-09T21:35:14.567634Z",
     "iopub.status.busy": "2023-10-09T21:35:14.567113Z",
     "iopub.status.idle": "2023-10-09T21:35:14.572471Z",
     "shell.execute_reply": "2023-10-09T21:35:14.571612Z",
     "shell.execute_reply.started": "2023-10-09T21:35:14.567573Z"
    }
   },
   "outputs": [],
   "source": [
    "# Class 0: no extreme precip \n",
    "# Class 1: extreme precip\n",
    "classes = [0,1]\n",
    "\n",
    "# Columns to use for labels vs. features \n",
    "labels = \"precip_classes\"\n",
    "features_list = [\"slp_anom\",\"hgt_detrended_anom\"]"
   ]
  },
  {
   "cell_type": "code",
   "execution_count": 27,
   "id": "47b77c92-c98d-4113-acf6-fbde5ed86193",
   "metadata": {
    "execution": {
     "iopub.execute_input": "2023-10-09T21:53:04.337954Z",
     "iopub.status.busy": "2023-10-09T21:53:04.333015Z",
     "iopub.status.idle": "2023-10-09T21:53:06.072300Z",
     "shell.execute_reply": "2023-10-09T21:53:06.068611Z",
     "shell.execute_reply.started": "2023-10-09T21:53:04.337769Z"
    }
   },
   "outputs": [],
   "source": [
    "# Directory for input data \n",
    "data_dir = \"../../data/input_data_preprocessed/\"\n",
    "\n",
    "# Read csv as pandas DataFrame object\n",
    "X_train_ds = xr.open_dataset(data_dir+\"training/training_features.nc\")\n",
    "y_train_df = pd.read_csv(data_dir+\"training/training_labels.csv\", index_col=False)\n",
    "\n",
    "X_val_ds = xr.open_dataset(data_dir+\"/validation/validation_features.nc\")\n",
    "y_val_df = pd.read_csv(data_dir+\"/validation/validation_labels.csv\", index_col=False)\n",
    "\n",
    "X_test_ds = xr.open_dataset(data_dir+\"/testing/testing_features.nc\")\n",
    "y_test_df = pd.read_csv(data_dir+\"/testing/testing_labels.csv\", index_col=False)\n",
    "\n",
    "# Convert to numpy \n",
    "X_train = X_train_ds.to_array().transpose(\"time\",\"lat\",\"lon\",\"variable\")\n",
    "y_train = y_train_df[labels].values\n",
    "\n",
    "X_val = X_val_ds.to_array().transpose(\"time\",\"lat\",\"lon\",\"variable\")\n",
    "y_val = y_val_df[labels].values\n",
    "\n",
    "X_test = X_test_ds.to_array().transpose(\"time\",\"lat\",\"lon\",\"variable\")\n",
    "y_test = y_test_df[labels].values"
   ]
  },
  {
   "cell_type": "code",
   "execution_count": 31,
   "id": "168881aa-5331-4882-a966-21ebcefba2af",
   "metadata": {
    "execution": {
     "iopub.execute_input": "2023-10-09T21:56:52.950067Z",
     "iopub.status.busy": "2023-10-09T21:56:52.949269Z",
     "iopub.status.idle": "2023-10-09T21:56:52.964226Z",
     "shell.execute_reply": "2023-10-09T21:56:52.961594Z",
     "shell.execute_reply.started": "2023-10-09T21:56:52.950022Z"
    }
   },
   "outputs": [],
   "source": [
    "# Do one hot encoding on labels \n",
    "y_train = onehot(y_train)\n",
    "y_val = onehot(y_val)\n",
    "y_test = onehot(y_test)"
   ]
  },
  {
   "cell_type": "code",
   "execution_count": null,
   "id": "5758d8b3-5674-4314-9876-a2edbbdfc66f",
   "metadata": {},
   "outputs": [],
   "source": []
  }
 ],
 "metadata": {
  "kernelspec": {
   "display_name": "Python 3 (ipykernel)",
   "language": "python",
   "name": "python3"
  },
  "language_info": {
   "codemirror_mode": {
    "name": "ipython",
    "version": 3
   },
   "file_extension": ".py",
   "mimetype": "text/x-python",
   "name": "python",
   "nbconvert_exporter": "python",
   "pygments_lexer": "ipython3",
   "version": "3.10.12"
  }
 },
 "nbformat": 4,
 "nbformat_minor": 5
}
