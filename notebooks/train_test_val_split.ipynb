{
 "cells": [
  {
   "cell_type": "markdown",
   "id": "3b91669c-482e-421e-b87e-0d721397059c",
   "metadata": {},
   "source": [
    "# Format input data and split into training & validation\n",
    "Combine the preprocessed labels (precip data) and features (reanalysis data) into one csv file. Split data into training and validation."
   ]
  },
  {
   "cell_type": "code",
   "execution_count": null,
   "id": "74e36740-8ec4-47a4-90df-0d715fb6d61f",
   "metadata": {},
   "outputs": [],
   "source": [
    "import pandas as pd\n",
    "import numpy as np"
   ]
  },
  {
   "cell_type": "code",
   "execution_count": null,
   "id": "9b055e60-50c3-4f7b-82a5-583d82a23864",
   "metadata": {},
   "outputs": [],
   "source": [
    "# Directory for input data \n",
    "data_dir = \"../data/input_data_preprocessed/\"\n",
    "\n",
    "# Read labels csv as pandas DataFrame object \n",
    "labels_df = pd.read_csv(data_dir+\"precip_classes.csv\")\n",
    "\n",
    "# Read features csv as pandas DataFrame object\n",
    "features_df = pd.read_csv(data_dir+\"slp_hgt_anoms.csv\")\n",
    "\n",
    "# Merge DataFrames on time column \n",
    "# Will ensure that the data has the same time index \n",
    "input_df = labels_df.merge(features_df, on=\"time\")\n",
    "\n",
    "# Format time \n",
    "datetime_np = pd.to_datetime(input_df[\"time\"].values)\n",
    "input_df[\"year\"] = datetime_np.year\n",
    "input_df[\"month\"] = datetime_np.month\n",
    "input_df[\"day\"] = datetime_np.day\n",
    "input_df = input_df.drop(labels=\"time\", axis=\"columns\")\n",
    "\n",
    "display(input_df)"
   ]
  },
  {
   "cell_type": "markdown",
   "id": "4078fe53-bc1a-4644-beb1-2f794331c789",
   "metadata": {},
   "source": [
    "## Split the data by year into testing-validation-training"
   ]
  },
  {
   "cell_type": "code",
   "execution_count": null,
   "id": "024cbafd-e689-43f2-98f6-6c715aed79a6",
   "metadata": {},
   "outputs": [],
   "source": [
    "## Testing: 4 years of data (2001-2004)\n",
    "testing_df = input_df[input_df[\"year\"] <= 2004]\n",
    "\n",
    "## Validation: 4 years of data (2005-2008)\n",
    "validation_df = input_df[(input_df[\"year\"] >= 2005) & (input_df[\"year\"] < 2009)]\n",
    "\n",
    "## Training: 12 years of data (2009-2020)\n",
    "training_df = input_df[input_df[\"year\"] >= 2009]"
   ]
  },
  {
   "cell_type": "markdown",
   "id": "ec423b1f-860c-4ed3-b7b7-dc09e2ce2447",
   "metadata": {},
   "source": [
    "## Save as csv "
   ]
  },
  {
   "cell_type": "code",
   "execution_count": null,
   "id": "3b123204-1c2c-4821-9001-dc9f888f97f1",
   "metadata": {},
   "outputs": [],
   "source": [
    "# Columns to use for labels vs. features \n",
    "labels_list = [\"precip_classes\"]\n",
    "features_list = [\"slp_anom\",\"hgt_detrended_anom\",\"year\",\"month\",\"day\"]\n",
    "\n",
    "# Training data \n",
    "training_df[features_list].to_csv(data_dir+\"training/features_training.csv\", index=False)\n",
    "training_df[labels_list].to_csv(data_dir+\"training/labels_training.csv\", index=False)\n",
    "\n",
    "# Validation data \n",
    "validation_df[features_list].to_csv(data_dir+\"validation/features_validation.csv\", index=False)\n",
    "validation_df[labels_list].to_csv(data_dir+\"validation/labels_validation.csv\", index=False)\n",
    "\n",
    "# Testing data \n",
    "testing_df[features_list].to_csv(data_dir+\"testing/features_testing.csv\", index=False)\n",
    "testing_df[labels_list].to_csv(data_dir+\"testing/labels_testing.csv\", index=False)"
   ]
  }
 ],
 "metadata": {
  "kernelspec": {
   "display_name": "Python 3 (ipykernel)",
   "language": "python",
   "name": "python3"
  },
  "language_info": {
   "codemirror_mode": {
    "name": "ipython",
    "version": 3
   },
   "file_extension": ".py",
   "mimetype": "text/x-python",
   "name": "python",
   "nbconvert_exporter": "python",
   "pygments_lexer": "ipython3",
   "version": "3.10.12"
  }
 },
 "nbformat": 4,
 "nbformat_minor": 5
}
