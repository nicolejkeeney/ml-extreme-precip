{
 "cells": [
  {
   "cell_type": "markdown",
   "id": "3b91669c-482e-421e-b87e-0d721397059c",
   "metadata": {},
   "source": [
    "# Format input data and split into training & validation\n",
    "Combine the preprocessed labels (precip data) and features (reanalysis data) into one csv file. Split data into training and validation."
   ]
  },
  {
   "cell_type": "code",
   "execution_count": null,
   "id": "74e36740-8ec4-47a4-90df-0d715fb6d61f",
   "metadata": {},
   "outputs": [],
   "source": [
    "import pandas as pd\n",
    "import numpy as np\n",
    "from sklearn.model_selection import train_test_split"
   ]
  },
  {
   "cell_type": "code",
   "execution_count": null,
   "id": "9b055e60-50c3-4f7b-82a5-583d82a23864",
   "metadata": {},
   "outputs": [],
   "source": [
    "# Directory for input data \n",
    "data_dir = \"../data/input_data_preprocessed/\"\n",
    "\n",
    "# Read labels csv as pandas DataFrame object \n",
    "labels_df = pd.read_csv(data_dir+\"precip_classes.csv\")\n",
    "\n",
    "# Read features csv as pandas DataFrame object\n",
    "features_df = pd.read_csv(data_dir+\"slp_hgt_anoms.csv\")\n",
    "\n",
    "# Merge DataFrames on time column \n",
    "# Will ensure that the data has the same time index \n",
    "input_df = labels_df.merge(features_df, on=\"time\")\n",
    "\n",
    "# Format time \n",
    "datetime_np = pd.to_datetime(input_df[\"time\"].values)\n",
    "input_df[\"year\"] = datetime_np.year\n",
    "input_df[\"month\"] = datetime_np.month\n",
    "input_df[\"day\"] = datetime_np.day\n",
    "input_df = input_df.drop(labels=\"time\", axis=\"columns\")\n",
    "\n",
    "display(input_df)"
   ]
  },
  {
   "cell_type": "code",
   "execution_count": null,
   "id": "a30b2c53-c10f-4c8c-91bb-098e1bc8dcc9",
   "metadata": {},
   "outputs": [],
   "source": [
    "# Format input data \n",
    "labels_list = [\"precip_classes\"]\n",
    "labels_np = input_df[labels_list].values\n",
    "\n",
    "# Convert to numpy array\n",
    "features_list = [\"slp_anom\",\"hgt_detrended_anom\",\"year\",\"month\",\"day\"]\n",
    "features_np = input_df[features_list].values"
   ]
  },
  {
   "cell_type": "code",
   "execution_count": null,
   "id": "bd8ef7be-e356-480c-a43e-8dbb91954f0d",
   "metadata": {},
   "outputs": [],
   "source": [
    "# Split into training (80%) and validation (20%) \n",
    "train_features, val_features, train_labels, val_labels = train_test_split(\n",
    "    features_np, \n",
    "    labels_np, \n",
    "    test_size=0.20, \n",
    "    random_state=18\n",
    ")"
   ]
  },
  {
   "cell_type": "code",
   "execution_count": null,
   "id": "3b123204-1c2c-4821-9001-dc9f888f97f1",
   "metadata": {},
   "outputs": [],
   "source": [
    "# Format as DataFrames and save as csv \n",
    "\n",
    "## Training data \n",
    "features_train_df = pd.DataFrame(data=train_features, columns=features_list)\n",
    "features_train_df.to_csv(data_dir+\"training/features_train.csv\", index=False)\n",
    "\n",
    "labels_train_df = pd.DataFrame(data=train_labels, columns=labels_list)\n",
    "labels_train_df.to_csv(data_dir+\"training/labels_train.csv\", index=False)\n",
    "\n",
    "## Testing data \n",
    "features_val_df = pd.DataFrame(data=val_features, columns=features_list)\n",
    "features_val_df.to_csv(data_dir+\"validation/features_validation.csv\", index=False) \n",
    "\n",
    "labels_val_df = pd.DataFrame(data=val_labels, columns=labels_list)\n",
    "labels_val_df.to_csv(data_dir+\"validation/labels_validation.csv\", index=False)"
   ]
  }
 ],
 "metadata": {
  "kernelspec": {
   "display_name": "Python 3 (ipykernel)",
   "language": "python",
   "name": "python3"
  },
  "language_info": {
   "codemirror_mode": {
    "name": "ipython",
    "version": 3
   },
   "file_extension": ".py",
   "mimetype": "text/x-python",
   "name": "python",
   "nbconvert_exporter": "python",
   "pygments_lexer": "ipython3",
   "version": "3.10.12"
  }
 },
 "nbformat": 4,
 "nbformat_minor": 5
}
