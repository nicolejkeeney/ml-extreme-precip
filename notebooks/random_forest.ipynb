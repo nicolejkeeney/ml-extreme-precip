{
 "cells": [
  {
   "cell_type": "markdown",
   "id": "dae7bca3-3901-4b51-8940-fb3f099c30e3",
   "metadata": {},
   "source": [
    "# Random Forest: Extreme Precipitation\n",
    "\n",
    "This notebook builds upon code from [rf_class_palmerpenguins.ipynb](https://github.com/eabarnes1010/course_ml_ats/blob/main/code/rf_class_palmerpenguins.ipynb)."
   ]
  },
  {
   "cell_type": "code",
   "execution_count": null,
   "id": "da132c14-785c-4355-9eb4-3c01914e8694",
   "metadata": {},
   "outputs": [],
   "source": [
    "import numpy as np\n",
    "import pandas as pd \n",
    "import matplotlib.pyplot as plt\n",
    "import pydot\n",
    "import sklearn\n",
    "from sklearn import metrics\n",
    "from sklearn.ensemble import RandomForestClassifier\n",
    "from sklearn.inspection import permutation_importance\n",
    "from sklearn.tree import export_graphviz\n",
    "from graphviz import Source # To plot trees"
   ]
  },
  {
   "cell_type": "markdown",
   "id": "daefd219-454e-4828-baf0-49b03b5c36cb",
   "metadata": {},
   "source": [
    "## Import input data"
   ]
  },
  {
   "cell_type": "code",
   "execution_count": null,
   "id": "1cc39a02-c07b-493f-9dca-73cb78e68561",
   "metadata": {},
   "outputs": [],
   "source": [
    "# Class 0: no extreme precip \n",
    "# Class 1: extreme precip\n",
    "classes = [\"0\",\"1\"]\n",
    "\n",
    "# Columns to use for labels vs. features \n",
    "labels_list = [\"precip_classes\"]\n",
    "features_list = [\"slp_anom\",\"hgt_detrended_anom\",\"year\",\"month\",\"day\"]"
   ]
  },
  {
   "cell_type": "code",
   "execution_count": null,
   "id": "71dac76b-3b99-44f4-9f42-720ced37372c",
   "metadata": {},
   "outputs": [],
   "source": [
    "# Directory for input data \n",
    "data_dir = \"../data/input_data_preprocessed/\"\n",
    "\n",
    "# Read csv as pandas DataFrame object, then convert to numpy \n",
    "\n",
    "X_train = pd.read_csv(data_dir+\"training/features_training.csv\")\n",
    "y_train = pd.read_csv(data_dir+\"training/labels_training.csv\") \n",
    "\n",
    "X_val = pd.read_csv(data_dir+\"/validation/features_validation.csv\")\n",
    "y_val = pd.read_csv(data_dir+\"/validation/labels_validation.csv\") \n",
    "\n",
    "X_test = pd.read_csv(data_dir+\"/testing/features_testing.csv\")\n",
    "y_test = pd.read_csv(data_dir+\"/testing/labels_testing.csv\") "
   ]
  },
  {
   "cell_type": "markdown",
   "id": "fe7b6f94-af2b-4e90-8fbb-7e5980a6afb6",
   "metadata": {},
   "source": [
    "## Split dataset into training and validation"
   ]
  },
  {
   "cell_type": "code",
   "execution_count": null,
   "id": "7b181ef4-d766-489d-9c0e-616b9d7225af",
   "metadata": {},
   "outputs": [],
   "source": [
    "print('Training Features Shape:', X_train.shape)\n",
    "print('Training Labels Shape:', y_train.shape)\n",
    "print('Validation Features Shape:', X_val.shape)\n",
    "print('Validation Labels Shape:', y_val.shape)"
   ]
  },
  {
   "cell_type": "markdown",
   "id": "44280059-f6c7-4da0-8883-fec1088814e4",
   "metadata": {},
   "source": [
    "## Train model and make predictions"
   ]
  },
  {
   "cell_type": "code",
   "execution_count": null,
   "id": "2b28a2b1-ed86-4291-be05-eb4a60d415b0",
   "metadata": {},
   "outputs": [],
   "source": [
    "# Dictionary of hyperparameters \n",
    "fd = {\n",
    "    \"tree_number\": 2,    # number of trees to \"average\" together to create a random forest\n",
    "    \"tree_depth\": 25,     # maximum depth allowed for each tree\n",
    "    \"node_split\": 20,     # minimum number of training samples needed to split a node\n",
    "    \"leaf_samples\": 1,    # minimum number of training samples required to make a leaf node\n",
    "    \"criterion\": 'gini',  # information gain metric, 'gini' or 'entropy'\n",
    "    \"bootstrap\": False,   # whether to perform \"bagging=bootstrap aggregating\" or not\n",
    "    \"max_samples\": None,  # number of samples to grab when training each tree IF bootstrap=True, otherwise None \n",
    "    \"random_state\": 13    # set random state for reproducibility\n",
    "}\n",
    "\n",
    "# Build the random forest \n",
    "rf = RandomForestClassifier(\n",
    "   n_estimators = fd[\"tree_number\"],\n",
    "   random_state = fd[\"random_state\"],\n",
    "   min_samples_split = fd[\"node_split\"],\n",
    "   min_samples_leaf = fd[\"leaf_samples\"],\n",
    "   criterion = fd[\"criterion\"],\n",
    "   max_depth = fd[\"tree_depth\"],\n",
    "   bootstrap = fd[\"bootstrap\"],\n",
    "   max_samples = fd[\"max_samples\"]\n",
    ")\n",
    "\n",
    "# Train the model on training data\n",
    "rf.fit(X_train, y_train) # Runs the forest classifier\n",
    "y_pred = rf.predict(X_train)"
   ]
  },
  {
   "cell_type": "markdown",
   "id": "45db4940-8b8f-45c9-b64c-61a962b487d1",
   "metadata": {
    "execution": {
     "iopub.execute_input": "2023-09-25T19:01:52.155427Z",
     "iopub.status.busy": "2023-09-25T19:01:52.154266Z",
     "iopub.status.idle": "2023-09-25T19:01:52.173254Z",
     "shell.execute_reply": "2023-09-25T19:01:52.171593Z",
     "shell.execute_reply.started": "2023-09-25T19:01:52.155392Z"
    }
   },
   "source": [
    "## Establish a baseline \n",
    "My baseline will be that 0 extreme precip days are predicted"
   ]
  },
  {
   "cell_type": "markdown",
   "id": "45adbe8d-7911-4338-bcf0-e4c043a99107",
   "metadata": {
    "execution": {
     "iopub.execute_input": "2023-09-19T16:14:21.664677Z",
     "iopub.status.busy": "2023-09-19T16:14:21.664211Z",
     "iopub.status.idle": "2023-09-19T16:14:21.675747Z",
     "shell.execute_reply": "2023-09-19T16:14:21.672294Z",
     "shell.execute_reply.started": "2023-09-19T16:14:21.664559Z"
    }
   },
   "source": [
    "## Make confusion matrix "
   ]
  },
  {
   "cell_type": "code",
   "execution_count": null,
   "id": "3d20a1af-3378-44f1-8920-bef2ebc37754",
   "metadata": {},
   "outputs": [],
   "source": [
    "num_extremes_train = y_train.sum()\n",
    "num_extremes_pred = y_pred.sum() \n",
    "\n",
    "print(\"Num extreme precip days in training data: {0}\".format(num_extremes_train))\n",
    "print(\"Num extreme precip days in predicted data: {0}\".format(num_extremes_pred))"
   ]
  },
  {
   "cell_type": "code",
   "execution_count": null,
   "id": "00025e61-93e1-4173-b9b2-46064b121127",
   "metadata": {},
   "outputs": [],
   "source": [
    "acc = metrics.accuracy_score(y_train, y_pred)\n",
    "print(\"training accuracy: \", np.around(acc*100), '%')\n",
    "\n",
    "def confusion_matrix(predclasses, targclasses):\n",
    "    class_names = np.unique(targclasses)\n",
    "    table = []\n",
    "    for pred_class in class_names:\n",
    "      row = []\n",
    "      for true_class in class_names:\n",
    "          row.append(100 * np.mean(predclasses[targclasses == true_class] == pred_class))\n",
    "      table.append(row)\n",
    "    class_titles_t = classes\n",
    "    class_titles_p = classes\n",
    "    conf_matrix = pd.DataFrame(table, index=class_titles_p, columns=class_titles_t)\n",
    "    return conf_matrix\n",
    "\n",
    "confusion_matrix(y_train, y_pred)"
   ]
  },
  {
   "cell_type": "markdown",
   "id": "9eb52b03-17e5-4289-a601-4fb9affaaa16",
   "metadata": {},
   "source": [
    "## Plot the tree"
   ]
  },
  {
   "cell_type": "code",
   "execution_count": null,
   "id": "b7fc6826-5d20-46c7-aa07-f88a173e3c9f",
   "metadata": {},
   "outputs": [],
   "source": [
    "local_path = \"../figs/\"\n",
    "fig_savename = \"rf_extreme_precip\"\n",
    "tree_to_plot = 0 # Enter the value of the tree that you want to see!\n",
    "\n",
    "tree = rf[tree_to_plot] # Obtain the tree to plot\n",
    "tree_numstr = str(tree_to_plot) # Adds the tree number to filename\n",
    "\n",
    "complete_savename = fig_savename + \"_\" + tree_numstr + \".dot\"\n",
    "out_file = local_path + complete_savename\n",
    "export_graphviz(tree,\n",
    "                out_file=out_file,\n",
    "                filled=True,\n",
    "                proportion=False,\n",
    "                leaves_parallel=False,\n",
    "                class_names=classes,\n",
    "                feature_names=features_list)\n",
    "\n",
    "Source.from_file(local_path + complete_savename)"
   ]
  },
  {
   "cell_type": "markdown",
   "id": "b233d8c7-aca3-4af5-abc0-1866d724f614",
   "metadata": {},
   "source": [
    "## Establish a baseline \n",
    "What to use here? "
   ]
  },
  {
   "cell_type": "code",
   "execution_count": null,
   "id": "6c070e45-9352-4a1e-9fa4-10e36e872fef",
   "metadata": {},
   "outputs": [],
   "source": [
    "# I NEED A BASELINE "
   ]
  },
  {
   "cell_type": "markdown",
   "id": "22638940-47b3-4c53-bec0-4fd91d1fabda",
   "metadata": {},
   "source": [
    "## Make predictions"
   ]
  }
 ],
 "metadata": {
  "kernelspec": {
   "display_name": "Python 3 (ipykernel)",
   "language": "python",
   "name": "python3"
  },
  "language_info": {
   "codemirror_mode": {
    "name": "ipython",
    "version": 3
   },
   "file_extension": ".py",
   "mimetype": "text/x-python",
   "name": "python",
   "nbconvert_exporter": "python",
   "pygments_lexer": "ipython3",
   "version": "3.10.12"
  }
 },
 "nbformat": 4,
 "nbformat_minor": 5
}
