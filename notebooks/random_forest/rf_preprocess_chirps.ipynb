{
 "cells": [
  {
   "cell_type": "markdown",
   "id": "7a02f4bd-08a3-420d-8fed-b594aa94ce78",
   "metadata": {},
   "source": [
    "# Random Forest: Preprocess CHIRPS precipitation data \n",
    "1) Clip to CO\n",
    "2) Compute average over region \n",
    "3) Assign each timestep to a class -- extreme precip or not "
   ]
  },
  {
   "cell_type": "code",
   "execution_count": null,
   "id": "be9a9903-a4f7-427b-a7a4-4c28eca3c416",
   "metadata": {},
   "outputs": [],
   "source": [
    "import xarray as xr \n",
    "import numpy as np \n",
    "import pandas as pd\n",
    "from glob import glob\n",
    "import sys \n",
    "from datetime import datetime\n",
    "import boto3\n",
    "import s3fs\n",
    "\n",
    "# Import helper functions \n",
    "sys.path.insert(0, '../../utils')\n",
    "from preprocessing_utils import (\n",
    "    get_state_geom,\n",
    "    convert_lon_360_to_180, \n",
    "    clip_to_geom, \n",
    "    calc_anomalies, \n",
    ") \n",
    "from misc_utils import format_nbytes\n",
    "import parameters as param"
   ]
  },
  {
   "cell_type": "code",
   "execution_count": null,
   "id": "ad4ce48b-1784-4a7e-8c30-5f16add25476",
   "metadata": {},
   "outputs": [],
   "source": [
    "state = \"Colorado\"\n",
    "geom = get_state_geom(state=state)"
   ]
  },
  {
   "cell_type": "code",
   "execution_count": null,
   "id": "e6062d8e-a401-4be3-8918-fa8e5faec6c9",
   "metadata": {},
   "outputs": [],
   "source": [
    "var = \"precip\"\n",
    "filepaths_wildcard = \"../data/chirps_precip/*chirps*.days_p25.nc\"\n",
    "filepaths_all = glob(filepaths_wildcard)\n",
    "ds = xr.open_mfdataset(filepaths_all).sel(time=param.time_period)\n",
    "global_attrs = ds.attrs\n",
    "var_attrs = ds[var].attrs\n",
    "\n",
    "# Clip to geometry \n",
    "ds = clip_to_geom(ds, geom, lon_name=\"longitude\", lat_name=\"latitude\")"
   ]
  },
  {
   "cell_type": "code",
   "execution_count": null,
   "id": "5c4f78f3-576c-4578-b2cb-b25bc188a29e",
   "metadata": {},
   "outputs": [],
   "source": [
    "# Average over entire region\n",
    "ds_mean = ds.mean(dim=[\"latitude\",\"longitude\"]) \n",
    "\n",
    "# Read data into memory \n",
    "ds_mean = ds_mean.compute() \n",
    "\n",
    "# Compute 95th percentile precip\n",
    "perc_95 = ds_mean[var].quantile(0.95).item()\n",
    "print(\"95th percentile precip over {0}: {1}\".format(state, perc_95))"
   ]
  },
  {
   "cell_type": "code",
   "execution_count": null,
   "id": "5cad3f8b-fb21-4b63-94ed-ec6a9c425490",
   "metadata": {},
   "outputs": [],
   "source": [
    "# Assign classes based on exceedance of 95th percentile \n",
    "extremes_var = \"precip_classes\"\n",
    "ds[extremes_var] = xr.where(ds_mean[var] > perc_95, 1, 0)\n",
    "ds[extremes_var].attrs = {\n",
    "    \"description\":\"95th percentile precipitation\", \n",
    "    \"classes\": \"Class 0: precipitation below threshold \\nClass 1: precipitation exeeds threshold\",\n",
    "    \"95th percentile\":\"{} mm/day\".format(round(perc_95,3)),\n",
    "} "
   ]
  },
  {
   "cell_type": "code",
   "execution_count": null,
   "id": "62db710d-7877-49ad-a2ea-5abd9dde8253",
   "metadata": {},
   "outputs": [],
   "source": [
    "# Format the output data \n",
    "output_ds = ds[extremes_var].to_dataset()\n",
    "output_ds.attrs = global_attrs\n",
    "output_ds.attrs[\"region\"] = \"Data has been spatially averaged across the state of \"+state\n",
    "output_ds.attrs[\"title\"] = global_attrs[\"title\"] + \" modified to compute extreme precip classes\"\n",
    "output_ds.attrs[\"history\"] = global_attrs[\"history\"] + \"\\nExtreme precip classes produced \" + datetime.today().strftime('%Y/%m/%d')"
   ]
  },
  {
   "cell_type": "code",
   "execution_count": null,
   "id": "33973349-ac4e-407c-9938-08ceacbacaa9",
   "metadata": {},
   "outputs": [],
   "source": [
    "# Take a gander at the data \n",
    "display(output_ds)"
   ]
  },
  {
   "cell_type": "code",
   "execution_count": null,
   "id": "db1e37d0-2dfd-451e-a71a-4cf96946de5c",
   "metadata": {},
   "outputs": [],
   "source": [
    "# Mean value should be close to 0.05\n",
    "mean_val = output_ds[extremes_var].mean().item()\n",
    "print(mean_val)"
   ]
  },
  {
   "cell_type": "code",
   "execution_count": null,
   "id": "6c805064-0d67-41c1-b459-3290c4b2dbea",
   "metadata": {},
   "outputs": [],
   "source": [
    "# Convert to dataframe \n",
    "output_df = output_ds[extremes_var].to_dataframe()\n",
    "output_df.head()"
   ]
  },
  {
   "cell_type": "code",
   "execution_count": null,
   "id": "bd85a790-af15-4aad-828f-79fc2691b6e3",
   "metadata": {},
   "outputs": [],
   "source": [
    "# Split into training-validation-testing\n",
    "training = output_df.loc[param.training_time_start:param.training_time_end]\n",
    "validation = output_df.loc[param.validation_time_start:param.validation_time_end]\n",
    "testing = output_df.loc[param.testing_time_start:param.testing_time_end]"
   ]
  },
  {
   "cell_type": "code",
   "execution_count": null,
   "id": "fef4b6c8-ba2b-4d11-89e6-c3110555b6ef",
   "metadata": {},
   "outputs": [],
   "source": [
    "# Output as csv\n",
    "data_dir = \"../data/input_data_preprocessed/\"\n",
    "training.to_csv(data_dir+\"training/training_labels.csv\") \n",
    "validation.to_csv(data_dir+\"validation/validation_labels.csv\") \n",
    "testing.to_csv(data_dir+\"testing/testing_labels.csv\") "
   ]
  }
 ],
 "metadata": {
  "kernelspec": {
   "display_name": "Python 3 (ipykernel)",
   "language": "python",
   "name": "python3"
  },
  "language_info": {
   "codemirror_mode": {
    "name": "ipython",
    "version": 3
   },
   "file_extension": ".py",
   "mimetype": "text/x-python",
   "name": "python",
   "nbconvert_exporter": "python",
   "pygments_lexer": "ipython3",
   "version": "3.10.12"
  }
 },
 "nbformat": 4,
 "nbformat_minor": 5
}
