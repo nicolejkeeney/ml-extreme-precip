{
 "cells": [
  {
   "cell_type": "markdown",
   "id": "dae7bca3-3901-4b51-8940-fb3f099c30e3",
   "metadata": {},
   "source": [
    "# Random Forest: Extreme Precipitation\n",
    "\n",
    "This notebook builds upon code from [rf_class_palmerpenguins.ipynb](https://github.com/eabarnes1010/course_ml_ats/blob/main/code/rf_class_palmerpenguins.ipynb)."
   ]
  },
  {
   "cell_type": "code",
   "execution_count": 1,
   "id": "da132c14-785c-4355-9eb4-3c01914e8694",
   "metadata": {
    "execution": {
     "iopub.execute_input": "2023-09-29T22:14:35.633644Z",
     "iopub.status.busy": "2023-09-29T22:14:35.633405Z",
     "iopub.status.idle": "2023-09-29T22:14:40.097925Z",
     "shell.execute_reply": "2023-09-29T22:14:40.095711Z",
     "shell.execute_reply.started": "2023-09-29T22:14:35.633623Z"
    }
   },
   "outputs": [],
   "source": [
    "import numpy as np\n",
    "import pandas as pd \n",
    "from tqdm import tqdm\n",
    "import matplotlib.pyplot as plt\n",
    "import pydot\n",
    "import sklearn\n",
    "from sklearn.ensemble import RandomForestClassifier\n",
    "from sklearn.inspection import permutation_importance\n",
    "from sklearn.tree import export_graphviz\n",
    "from graphviz import Source # To plot trees\n",
    "\n",
    "# Import helper functions \n",
    "import sys\n",
    "sys.path.insert(0, '../../utils')\n",
    "from rf_utils import (\n",
    "    confusion_matrix, \n",
    "    style_cm, \n",
    "    confusion_matrix_key, \n",
    "    rf_metrics\n",
    ")"
   ]
  },
  {
   "cell_type": "markdown",
   "id": "daefd219-454e-4828-baf0-49b03b5c36cb",
   "metadata": {},
   "source": [
    "## Import input data"
   ]
  },
  {
   "cell_type": "code",
   "execution_count": 2,
   "id": "1cc39a02-c07b-493f-9dca-73cb78e68561",
   "metadata": {
    "execution": {
     "iopub.execute_input": "2023-09-29T22:14:40.103518Z",
     "iopub.status.busy": "2023-09-29T22:14:40.101254Z",
     "iopub.status.idle": "2023-09-29T22:14:40.112836Z",
     "shell.execute_reply": "2023-09-29T22:14:40.109487Z",
     "shell.execute_reply.started": "2023-09-29T22:14:40.103485Z"
    }
   },
   "outputs": [],
   "source": [
    "# Class 0: no extreme precip \n",
    "# Class 1: extreme precip\n",
    "classes = [0,1]\n",
    "\n",
    "# Columns to use for labels vs. features \n",
    "labels = \"precip_classes\"\n",
    "features_list = [\"slp_anom\",\"hgt_detrended_anom\"]"
   ]
  },
  {
   "cell_type": "code",
   "execution_count": 3,
   "id": "71dac76b-3b99-44f4-9f42-720ced37372c",
   "metadata": {
    "execution": {
     "iopub.execute_input": "2023-09-29T22:14:40.119591Z",
     "iopub.status.busy": "2023-09-29T22:14:40.117895Z",
     "iopub.status.idle": "2023-09-29T22:14:40.314443Z",
     "shell.execute_reply": "2023-09-29T22:14:40.313648Z",
     "shell.execute_reply.started": "2023-09-29T22:14:40.119532Z"
    }
   },
   "outputs": [],
   "source": [
    "# Directory for input data \n",
    "data_dir = \"../data/input_data_preprocessed/\"\n",
    "\n",
    "# Read csv as pandas DataFrame object\n",
    "X_train_df = pd.read_csv(data_dir+\"training/training_features.csv\", index_col=False)\n",
    "y_train_df = pd.read_csv(data_dir+\"training/training_labels.csv\", index_col=False)\n",
    "\n",
    "X_val_df = pd.read_csv(data_dir+\"/validation/validation_features.csv\", index_col=False)\n",
    "y_val_df = pd.read_csv(data_dir+\"/validation/validation_labels.csv\", index_col=False)\n",
    "\n",
    "X_test_df = pd.read_csv(data_dir+\"/testing/testing_features.csv\", index_col=False)\n",
    "y_test_df = pd.read_csv(data_dir+\"/testing/testing_labels.csv\", index_col=False)\n",
    "\n",
    "# Confirm that the time index is equal \n",
    "for X,y in [(X_train_df,y_train_df),(X_val_df,y_val_df),(X_test_df,y_test_df)]:\n",
    "    equal_bool = np.array_equal(X.time.values, y.time.values)\n",
    "    if equal_bool is False: \n",
    "        print(\"Time indices are not equal\") \n",
    "        print(X.time.values)\n",
    "        print(y.time.values)\n",
    "\n",
    "# Convert to numpy \n",
    "X_train = X_train_df[features_list].values\n",
    "y_train = y_train_df[labels].values\n",
    "\n",
    "X_val = X_val_df[features_list].values\n",
    "y_val = y_val_df[labels].values\n",
    "\n",
    "X_test = X_test_df[features_list].values\n",
    "y_test = y_test_df[labels].values"
   ]
  },
  {
   "cell_type": "code",
   "execution_count": 4,
   "id": "7b181ef4-d766-489d-9c0e-616b9d7225af",
   "metadata": {
    "execution": {
     "iopub.execute_input": "2023-09-29T22:14:40.318468Z",
     "iopub.status.busy": "2023-09-29T22:14:40.317309Z",
     "iopub.status.idle": "2023-09-29T22:14:40.328658Z",
     "shell.execute_reply": "2023-09-29T22:14:40.325756Z",
     "shell.execute_reply.started": "2023-09-29T22:14:40.318422Z"
    }
   },
   "outputs": [
    {
     "name": "stdout",
     "output_type": "stream",
     "text": [
      "Training Features Shape: (9131, 2)\n",
      "Training Labels Shape: (9131,)\n",
      "Validation Features Shape: (3287, 2)\n",
      "Validation Labels Shape: (3287,)\n"
     ]
    }
   ],
   "source": [
    "print('Training Features Shape:', X_train.shape)\n",
    "print('Training Labels Shape:', y_train.shape)\n",
    "print('Validation Features Shape:', X_val.shape)\n",
    "print('Validation Labels Shape:', y_val.shape)"
   ]
  },
  {
   "cell_type": "markdown",
   "id": "44280059-f6c7-4da0-8883-fec1088814e4",
   "metadata": {},
   "source": [
    "## Train model and make predictions"
   ]
  },
  {
   "cell_type": "markdown",
   "id": "e4abb62b-a6fb-4d4c-8014-9ffc730dd8bc",
   "metadata": {},
   "source": [
    "### Optimize based on recall"
   ]
  },
  {
   "cell_type": "code",
   "execution_count": 5,
   "id": "4e55a525-f17c-4d0e-a765-328738d6e401",
   "metadata": {
    "execution": {
     "iopub.execute_input": "2023-09-29T22:14:40.330343Z",
     "iopub.status.busy": "2023-09-29T22:14:40.329868Z",
     "iopub.status.idle": "2023-09-29T22:20:36.228108Z",
     "shell.execute_reply": "2023-09-29T22:20:36.226648Z",
     "shell.execute_reply.started": "2023-09-29T22:14:40.330305Z"
    }
   },
   "outputs": [
    {
     "name": "stderr",
     "output_type": "stream",
     "text": [
      "100%|███████████████████████████████████████████| 15/15 [05:55<00:00, 23.72s/it]\n"
     ]
    }
   ],
   "source": [
    "vals = []\n",
    "for tree_num in tqdm(np.arange(10,25,1)): \n",
    "    for tree_depth in np.arange(3,10,1):\n",
    "        for node_split in np.arange(10,30,1): \n",
    "\n",
    "            # Build the random forest \n",
    "            rf = RandomForestClassifier(\n",
    "                n_estimators = tree_num,   \n",
    "                random_state = 13,    \n",
    "                min_samples_split = node_split,\n",
    "                min_samples_leaf = 1,\n",
    "                criterion = \"gini\",\n",
    "                max_depth = tree_depth,\n",
    "                bootstrap = False,\n",
    "                max_samples = None, \n",
    "                class_weight = {0:0.05, 1:0.95} \n",
    "            \n",
    "            )\n",
    "            # Train the model on training data\n",
    "            rf.fit(X_train, y_train) # Runs the forest classifier\n",
    "            y_pred = rf.predict(X_train)\n",
    "            acc, recall, prec = rf_metrics(y_train, y_pred, print_console=False)\n",
    "            vals.append([tree_num, tree_depth, node_split, acc, recall, prec])"
   ]
  },
  {
   "cell_type": "code",
   "execution_count": 6,
   "id": "10487794-1e86-4d7b-8019-cd6753ec778d",
   "metadata": {
    "execution": {
     "iopub.execute_input": "2023-09-29T22:20:36.231297Z",
     "iopub.status.busy": "2023-09-29T22:20:36.230927Z",
     "iopub.status.idle": "2023-09-29T22:20:36.263401Z",
     "shell.execute_reply": "2023-09-29T22:20:36.261255Z",
     "shell.execute_reply.started": "2023-09-29T22:20:36.231277Z"
    }
   },
   "outputs": [
    {
     "name": "stdout",
     "output_type": "stream",
     "text": [
      "Number of trees: 17\n",
      "Tree depth: 9\n",
      "Node split: 28\n"
     ]
    }
   ],
   "source": [
    "# Put output into a dataframe \n",
    "df_op = pd.DataFrame(vals, columns=[\"Tree number\",\"Tree depth\",\"Node split\",\"Accuracy\",\"Recall\",\"Precision\"])\n",
    "\n",
    "# Get values where recall is maximized\n",
    "optimized_vals = df_op.loc[df_op[\"Recall\"].idxmax()][[\"Tree number\",\"Tree depth\",\"Node split\"]]\n",
    "tree_num, tree_depth, node_split = [int(x) for x in optimized_vals.values]\n",
    "print(\"Number of trees: {0}\\nTree depth: {1}\\nNode split: {2}\".format(tree_num, tree_depth, node_split))"
   ]
  },
  {
   "cell_type": "markdown",
   "id": "24742f1d-8703-441b-9d09-2cab13f873ee",
   "metadata": {},
   "source": [
    "## Build my model with my optimized hyperparameters "
   ]
  },
  {
   "cell_type": "code",
   "execution_count": 7,
   "id": "7ba17eb2-433e-4042-bcbc-9361c898d9c8",
   "metadata": {
    "execution": {
     "iopub.execute_input": "2023-09-29T22:20:36.270280Z",
     "iopub.status.busy": "2023-09-29T22:20:36.269446Z",
     "iopub.status.idle": "2023-09-29T22:20:36.285244Z",
     "shell.execute_reply": "2023-09-29T22:20:36.281942Z",
     "shell.execute_reply.started": "2023-09-29T22:20:36.270235Z"
    }
   },
   "outputs": [],
   "source": [
    "hyperparameters  = {\n",
    "    \"tree_number\": tree_num,    # number of trees to \"average\" together to create a random forest\n",
    "    \"tree_depth\": tree_depth,      # maximum depth allowed for each tree\n",
    "    \"node_split\": node_split,     # minimum number of training samples needed to split a node\n",
    "    \"leaf_samples\": 1,    # minimum number of training samples required to make a leaf node\n",
    "    \"criterion\": 'gini',  # information gain metric, 'gini' or 'entropy'\n",
    "    \"bootstrap\": False,   # whether to perform \"bagging=bootstrap aggregating\" or not\n",
    "    \"max_samples\": None,  # number of samples to grab when training each tree IF bootstrap=True, otherwise None \n",
    "    \"random_state\": 13,    # set random state for reproducibility\n",
    "    \"class_weight\": \"{0:0.05, 1:0.95}\" \n",
    "}"
   ]
  },
  {
   "cell_type": "code",
   "execution_count": 8,
   "id": "286c2681-5e74-4f87-8f59-db36fed70043",
   "metadata": {
    "execution": {
     "iopub.execute_input": "2023-09-29T22:20:36.291495Z",
     "iopub.status.busy": "2023-09-29T22:20:36.287996Z",
     "iopub.status.idle": "2023-09-29T22:20:36.658930Z",
     "shell.execute_reply": "2023-09-29T22:20:36.656964Z",
     "shell.execute_reply.started": "2023-09-29T22:20:36.291368Z"
    }
   },
   "outputs": [
    {
     "data": {
      "text/html": [
       "<style>#sk-container-id-1 {color: black;}#sk-container-id-1 pre{padding: 0;}#sk-container-id-1 div.sk-toggleable {background-color: white;}#sk-container-id-1 label.sk-toggleable__label {cursor: pointer;display: block;width: 100%;margin-bottom: 0;padding: 0.3em;box-sizing: border-box;text-align: center;}#sk-container-id-1 label.sk-toggleable__label-arrow:before {content: \"▸\";float: left;margin-right: 0.25em;color: #696969;}#sk-container-id-1 label.sk-toggleable__label-arrow:hover:before {color: black;}#sk-container-id-1 div.sk-estimator:hover label.sk-toggleable__label-arrow:before {color: black;}#sk-container-id-1 div.sk-toggleable__content {max-height: 0;max-width: 0;overflow: hidden;text-align: left;background-color: #f0f8ff;}#sk-container-id-1 div.sk-toggleable__content pre {margin: 0.2em;color: black;border-radius: 0.25em;background-color: #f0f8ff;}#sk-container-id-1 input.sk-toggleable__control:checked~div.sk-toggleable__content {max-height: 200px;max-width: 100%;overflow: auto;}#sk-container-id-1 input.sk-toggleable__control:checked~label.sk-toggleable__label-arrow:before {content: \"▾\";}#sk-container-id-1 div.sk-estimator input.sk-toggleable__control:checked~label.sk-toggleable__label {background-color: #d4ebff;}#sk-container-id-1 div.sk-label input.sk-toggleable__control:checked~label.sk-toggleable__label {background-color: #d4ebff;}#sk-container-id-1 input.sk-hidden--visually {border: 0;clip: rect(1px 1px 1px 1px);clip: rect(1px, 1px, 1px, 1px);height: 1px;margin: -1px;overflow: hidden;padding: 0;position: absolute;width: 1px;}#sk-container-id-1 div.sk-estimator {font-family: monospace;background-color: #f0f8ff;border: 1px dotted black;border-radius: 0.25em;box-sizing: border-box;margin-bottom: 0.5em;}#sk-container-id-1 div.sk-estimator:hover {background-color: #d4ebff;}#sk-container-id-1 div.sk-parallel-item::after {content: \"\";width: 100%;border-bottom: 1px solid gray;flex-grow: 1;}#sk-container-id-1 div.sk-label:hover label.sk-toggleable__label {background-color: #d4ebff;}#sk-container-id-1 div.sk-serial::before {content: \"\";position: absolute;border-left: 1px solid gray;box-sizing: border-box;top: 0;bottom: 0;left: 50%;z-index: 0;}#sk-container-id-1 div.sk-serial {display: flex;flex-direction: column;align-items: center;background-color: white;padding-right: 0.2em;padding-left: 0.2em;position: relative;}#sk-container-id-1 div.sk-item {position: relative;z-index: 1;}#sk-container-id-1 div.sk-parallel {display: flex;align-items: stretch;justify-content: center;background-color: white;position: relative;}#sk-container-id-1 div.sk-item::before, #sk-container-id-1 div.sk-parallel-item::before {content: \"\";position: absolute;border-left: 1px solid gray;box-sizing: border-box;top: 0;bottom: 0;left: 50%;z-index: -1;}#sk-container-id-1 div.sk-parallel-item {display: flex;flex-direction: column;z-index: 1;position: relative;background-color: white;}#sk-container-id-1 div.sk-parallel-item:first-child::after {align-self: flex-end;width: 50%;}#sk-container-id-1 div.sk-parallel-item:last-child::after {align-self: flex-start;width: 50%;}#sk-container-id-1 div.sk-parallel-item:only-child::after {width: 0;}#sk-container-id-1 div.sk-dashed-wrapped {border: 1px dashed gray;margin: 0 0.4em 0.5em 0.4em;box-sizing: border-box;padding-bottom: 0.4em;background-color: white;}#sk-container-id-1 div.sk-label label {font-family: monospace;font-weight: bold;display: inline-block;line-height: 1.2em;}#sk-container-id-1 div.sk-label-container {text-align: center;}#sk-container-id-1 div.sk-container {/* jupyter's `normalize.less` sets `[hidden] { display: none; }` but bootstrap.min.css set `[hidden] { display: none !important; }` so we also need the `!important` here to be able to override the default hidden behavior on the sphinx rendered scikit-learn.org. See: https://github.com/scikit-learn/scikit-learn/issues/21755 */display: inline-block !important;position: relative;}#sk-container-id-1 div.sk-text-repr-fallback {display: none;}</style><div id=\"sk-container-id-1\" class=\"sk-top-container\"><div class=\"sk-text-repr-fallback\"><pre>RandomForestClassifier(bootstrap=False, class_weight={0: 0.05, 1: 0.95},\n",
       "                       max_depth=9, min_samples_split=29, n_estimators=24,\n",
       "                       random_state=13)</pre><b>In a Jupyter environment, please rerun this cell to show the HTML representation or trust the notebook. <br />On GitHub, the HTML representation is unable to render, please try loading this page with nbviewer.org.</b></div><div class=\"sk-container\" hidden><div class=\"sk-item\"><div class=\"sk-estimator sk-toggleable\"><input class=\"sk-toggleable__control sk-hidden--visually\" id=\"sk-estimator-id-1\" type=\"checkbox\" checked><label for=\"sk-estimator-id-1\" class=\"sk-toggleable__label sk-toggleable__label-arrow\">RandomForestClassifier</label><div class=\"sk-toggleable__content\"><pre>RandomForestClassifier(bootstrap=False, class_weight={0: 0.05, 1: 0.95},\n",
       "                       max_depth=9, min_samples_split=29, n_estimators=24,\n",
       "                       random_state=13)</pre></div></div></div></div></div>"
      ],
      "text/plain": [
       "RandomForestClassifier(bootstrap=False, class_weight={0: 0.05, 1: 0.95},\n",
       "                       max_depth=9, min_samples_split=29, n_estimators=24,\n",
       "                       random_state=13)"
      ]
     },
     "execution_count": 8,
     "metadata": {},
     "output_type": "execute_result"
    }
   ],
   "source": [
    "forest = RandomForestClassifier(\n",
    "     n_estimators = hyperparameters[\"tree_number\"],\n",
    "     random_state = hyperparameters[\"random_state\"],\n",
    "     min_samples_split = hyperparameters[\"node_split\"],\n",
    "     min_samples_leaf = hyperparameters[\"leaf_samples\"],\n",
    "     criterion = hyperparameters[\"criterion\"],\n",
    "     max_depth = hyperparameters[\"tree_depth\"],\n",
    "     bootstrap = hyperparameters[\"bootstrap\"],\n",
    "     max_samples = hyperparameters[\"max_samples\"], \n",
    "     class_weight = eval(hyperparameters[\"class_weight\"])\n",
    ")\n",
    "rf.fit(X_train, y_train) # Runs the forest classifier"
   ]
  },
  {
   "cell_type": "markdown",
   "id": "45adbe8d-7911-4338-bcf0-e4c043a99107",
   "metadata": {
    "execution": {
     "iopub.execute_input": "2023-09-19T16:14:21.664677Z",
     "iopub.status.busy": "2023-09-19T16:14:21.664211Z",
     "iopub.status.idle": "2023-09-19T16:14:21.675747Z",
     "shell.execute_reply": "2023-09-19T16:14:21.672294Z",
     "shell.execute_reply.started": "2023-09-19T16:14:21.664559Z"
    }
   },
   "source": [
    "## Make confusion matrix key \n",
    "Generate a helpful dataframe key for understanding a confusion matrix "
   ]
  },
  {
   "cell_type": "code",
   "execution_count": 9,
   "id": "60bcc873-e9a4-43c5-8b24-b8fc7a0ba6b9",
   "metadata": {
    "execution": {
     "iopub.execute_input": "2023-09-29T22:20:36.660293Z",
     "iopub.status.busy": "2023-09-29T22:20:36.659930Z",
     "iopub.status.idle": "2023-09-29T22:20:36.787839Z",
     "shell.execute_reply": "2023-09-29T22:20:36.785986Z",
     "shell.execute_reply.started": "2023-09-29T22:20:36.660261Z"
    }
   },
   "outputs": [
    {
     "data": {
      "text/html": [
       "<style type=\"text/css\">\n",
       "#T_c0467 .true {\n",
       "  background-color: #e6ffe6;\n",
       "}\n",
       "#T_c0467 .false {\n",
       "  background-color: #ffe6e6;\n",
       "}\n",
       "</style>\n",
       "<table id=\"T_c0467\">\n",
       "  <caption>Confusion Matrix</caption>\n",
       "  <thead>\n",
       "    <tr>\n",
       "      <th class=\"blank level0\" >&nbsp;</th>\n",
       "      <th id=\"T_c0467_level0_col0\" class=\"col_heading level0 col0\" >Negative</th>\n",
       "      <th id=\"T_c0467_level0_col1\" class=\"col_heading level0 col1\" >Positive</th>\n",
       "    </tr>\n",
       "  </thead>\n",
       "  <tbody>\n",
       "    <tr>\n",
       "      <th id=\"T_c0467_level0_row0\" class=\"row_heading level0 row0\" >Negative</th>\n",
       "      <td id=\"T_c0467_row0_col0\" class=\"data row0 col0 true \" >True Negative</td>\n",
       "      <td id=\"T_c0467_row0_col1\" class=\"data row0 col1 false \" >False Positive</td>\n",
       "    </tr>\n",
       "    <tr>\n",
       "      <th id=\"T_c0467_level0_row1\" class=\"row_heading level0 row1\" >Positive</th>\n",
       "      <td id=\"T_c0467_row1_col0\" class=\"data row1 col0 false \" >False Negative</td>\n",
       "      <td id=\"T_c0467_row1_col1\" class=\"data row1 col1 true \" >True Positive</td>\n",
       "    </tr>\n",
       "  </tbody>\n",
       "</table>\n"
      ],
      "text/plain": [
       "<pandas.io.formats.style.Styler at 0x7fa8498a9cc0>"
      ]
     },
     "execution_count": 9,
     "metadata": {},
     "output_type": "execute_result"
    }
   ],
   "source": [
    "cm_key = style_cm(confusion_matrix_key())\n",
    "cm_key"
   ]
  },
  {
   "cell_type": "markdown",
   "id": "20e541aa-c6ef-40e3-acf0-6ec655bd0cb9",
   "metadata": {},
   "source": [
    "### Try it with the training data "
   ]
  },
  {
   "cell_type": "code",
   "execution_count": 10,
   "id": "d9f27c95-bd3b-4a63-89c4-b8fd921e9a54",
   "metadata": {
    "execution": {
     "iopub.execute_input": "2023-09-29T22:20:36.791457Z",
     "iopub.status.busy": "2023-09-29T22:20:36.789408Z",
     "iopub.status.idle": "2023-09-29T22:20:36.853031Z",
     "shell.execute_reply": "2023-09-29T22:20:36.852063Z",
     "shell.execute_reply.started": "2023-09-29T22:20:36.791136Z"
    }
   },
   "outputs": [
    {
     "name": "stdout",
     "output_type": "stream",
     "text": [
      "Accuracy:  60.0 %\n",
      "Recall:  88.0 %\n",
      "Precision:  10.0 %\n"
     ]
    },
    {
     "data": {
      "text/html": [
       "<style type=\"text/css\">\n",
       "#T_20c2d .true {\n",
       "  background-color: #e6ffe6;\n",
       "}\n",
       "#T_20c2d .false {\n",
       "  background-color: #ffe6e6;\n",
       "}\n",
       "</style>\n",
       "<table id=\"T_20c2d\">\n",
       "  <caption>Confusion Matrix</caption>\n",
       "  <thead>\n",
       "    <tr>\n",
       "      <th class=\"blank level0\" >&nbsp;</th>\n",
       "      <th id=\"T_20c2d_level0_col0\" class=\"col_heading level0 col0\" >0</th>\n",
       "      <th id=\"T_20c2d_level0_col1\" class=\"col_heading level0 col1\" >1</th>\n",
       "    </tr>\n",
       "  </thead>\n",
       "  <tbody>\n",
       "    <tr>\n",
       "      <th id=\"T_20c2d_level0_row0\" class=\"row_heading level0 row0\" >0</th>\n",
       "      <td id=\"T_20c2d_row0_col0\" class=\"data row0 col0 true \" >98.860287</td>\n",
       "      <td id=\"T_20c2d_row0_col1\" class=\"data row0 col1 false \" >89.782286</td>\n",
       "    </tr>\n",
       "    <tr>\n",
       "      <th id=\"T_20c2d_level0_row1\" class=\"row_heading level0 row1\" >1</th>\n",
       "      <td id=\"T_20c2d_row1_col0\" class=\"data row1 col0 false \" >1.139713</td>\n",
       "      <td id=\"T_20c2d_row1_col1\" class=\"data row1 col1 true \" >10.217714</td>\n",
       "    </tr>\n",
       "  </tbody>\n",
       "</table>\n"
      ],
      "text/plain": [
       "<pandas.io.formats.style.Styler at 0x7fa8498abd00>"
      ]
     },
     "execution_count": 10,
     "metadata": {},
     "output_type": "execute_result"
    }
   ],
   "source": [
    "y_pred_train = rf.predict(X_train)\n",
    "acc, recall, prec = rf_metrics(y_train, y_pred_train)\n",
    "conf_matrix_df = confusion_matrix(y_train, y_pred_train)\n",
    "style_cm(conf_matrix_df)"
   ]
  },
  {
   "cell_type": "markdown",
   "id": "53f6952a-9144-4807-9634-3e47f6eeb7a6",
   "metadata": {},
   "source": [
    "### Try it with the validation data "
   ]
  },
  {
   "cell_type": "code",
   "execution_count": 11,
   "id": "bd88b2ae-5b3e-4632-b25a-256859c75d8a",
   "metadata": {
    "execution": {
     "iopub.execute_input": "2023-09-29T22:20:36.855919Z",
     "iopub.status.busy": "2023-09-29T22:20:36.854524Z",
     "iopub.status.idle": "2023-09-29T22:20:37.019663Z",
     "shell.execute_reply": "2023-09-29T22:20:37.016848Z",
     "shell.execute_reply.started": "2023-09-29T22:20:36.855865Z"
    }
   },
   "outputs": [
    {
     "name": "stdout",
     "output_type": "stream",
     "text": [
      "Accuracy:  57.0 %\n",
      "Recall:  54.0 %\n",
      "Precision:  6.0 %\n"
     ]
    },
    {
     "data": {
      "text/html": [
       "<style type=\"text/css\">\n",
       "#T_e042a .true {\n",
       "  background-color: #e6ffe6;\n",
       "}\n",
       "#T_e042a .false {\n",
       "  background-color: #ffe6e6;\n",
       "}\n",
       "</style>\n",
       "<table id=\"T_e042a\">\n",
       "  <caption>Confusion Matrix</caption>\n",
       "  <thead>\n",
       "    <tr>\n",
       "      <th class=\"blank level0\" >&nbsp;</th>\n",
       "      <th id=\"T_e042a_level0_col0\" class=\"col_heading level0 col0\" >0</th>\n",
       "      <th id=\"T_e042a_level0_col1\" class=\"col_heading level0 col1\" >1</th>\n",
       "    </tr>\n",
       "  </thead>\n",
       "  <tbody>\n",
       "    <tr>\n",
       "      <th id=\"T_e042a_level0_row0\" class=\"row_heading level0 row0\" >0</th>\n",
       "      <td id=\"T_e042a_row0_col0\" class=\"data row0 col0 true \" >95.844576</td>\n",
       "      <td id=\"T_e042a_row0_col1\" class=\"data row0 col1 false \" >93.723849</td>\n",
       "    </tr>\n",
       "    <tr>\n",
       "      <th id=\"T_e042a_level0_row1\" class=\"row_heading level0 row1\" >1</th>\n",
       "      <td id=\"T_e042a_row1_col0\" class=\"data row1 col0 false \" >4.155424</td>\n",
       "      <td id=\"T_e042a_row1_col1\" class=\"data row1 col1 true \" >6.276151</td>\n",
       "    </tr>\n",
       "  </tbody>\n",
       "</table>\n"
      ],
      "text/plain": [
       "<pandas.io.formats.style.Styler at 0x7fa8488673a0>"
      ]
     },
     "execution_count": 11,
     "metadata": {},
     "output_type": "execute_result"
    }
   ],
   "source": [
    "y_pred_val = rf.predict(X_val)\n",
    "acc, recall, prec = rf_metrics(y_val, y_pred_val)\n",
    "conf_matrix_df = confusion_matrix(y_val, y_pred_val)\n",
    "style_cm(conf_matrix_df)"
   ]
  },
  {
   "cell_type": "markdown",
   "id": "8fe66f1f-8054-4d4b-9e2c-58012a53c11d",
   "metadata": {},
   "source": [
    "### Try it with the baseline"
   ]
  },
  {
   "cell_type": "code",
   "execution_count": 12,
   "id": "a68a78c1-a20e-4189-bea1-0dffb3ee4956",
   "metadata": {
    "execution": {
     "iopub.execute_input": "2023-09-29T22:20:37.023486Z",
     "iopub.status.busy": "2023-09-29T22:20:37.021496Z",
     "iopub.status.idle": "2023-09-29T22:20:37.105694Z",
     "shell.execute_reply": "2023-09-29T22:20:37.103622Z",
     "shell.execute_reply.started": "2023-09-29T22:20:37.023441Z"
    }
   },
   "outputs": [
    {
     "name": "stdout",
     "output_type": "stream",
     "text": [
      "Accuracy:  95.0 %\n",
      "Recall:  0.0 %\n",
      "Precision:  0.0 %\n"
     ]
    },
    {
     "name": "stderr",
     "output_type": "stream",
     "text": [
      "/srv/conda/envs/notebook/lib/python3.10/site-packages/sklearn/metrics/_classification.py:1469: UndefinedMetricWarning: Precision is ill-defined and being set to 0.0 due to no predicted samples. Use `zero_division` parameter to control this behavior.\n",
      "  _warn_prf(average, modifier, msg_start, len(result))\n"
     ]
    },
    {
     "data": {
      "text/html": [
       "<style type=\"text/css\">\n",
       "#T_fc521 .true {\n",
       "  background-color: #e6ffe6;\n",
       "}\n",
       "#T_fc521 .false {\n",
       "  background-color: #ffe6e6;\n",
       "}\n",
       "</style>\n",
       "<table id=\"T_fc521\">\n",
       "  <caption>Confusion Matrix</caption>\n",
       "  <thead>\n",
       "    <tr>\n",
       "      <th class=\"blank level0\" >&nbsp;</th>\n",
       "      <th id=\"T_fc521_level0_col0\" class=\"col_heading level0 col0\" >0</th>\n",
       "      <th id=\"T_fc521_level0_col1\" class=\"col_heading level0 col1\" >1</th>\n",
       "    </tr>\n",
       "  </thead>\n",
       "  <tbody>\n",
       "    <tr>\n",
       "      <th id=\"T_fc521_level0_row0\" class=\"row_heading level0 row0\" >0</th>\n",
       "      <td id=\"T_fc521_row0_col0\" class=\"data row0 col0 true \" >94.841748</td>\n",
       "      <td id=\"T_fc521_row0_col1\" class=\"data row0 col1 false \" >0</td>\n",
       "    </tr>\n",
       "    <tr>\n",
       "      <th id=\"T_fc521_level0_row1\" class=\"row_heading level0 row1\" >1</th>\n",
       "      <td id=\"T_fc521_row1_col0\" class=\"data row1 col0 false \" >5.158252</td>\n",
       "      <td id=\"T_fc521_row1_col1\" class=\"data row1 col1 true \" >0</td>\n",
       "    </tr>\n",
       "  </tbody>\n",
       "</table>\n"
      ],
      "text/plain": [
       "<pandas.io.formats.style.Styler at 0x7fa849877a60>"
      ]
     },
     "execution_count": 12,
     "metadata": {},
     "output_type": "execute_result"
    }
   ],
   "source": [
    "y_baseline = np.zeros(y_train.shape)\n",
    "acc, recall, prec = rf_metrics(y_train, y_baseline)\n",
    "conf_matrix_df = confusion_matrix(y_train, y_baseline)\n",
    "style_cm(conf_matrix_df)"
   ]
  },
  {
   "cell_type": "markdown",
   "id": "5b22ad6d-7ebb-4f5b-926d-25c62e9c134f",
   "metadata": {},
   "source": [
    "## Try with the testing data"
   ]
  },
  {
   "cell_type": "code",
   "execution_count": 13,
   "id": "f5fdbaff-134d-4311-ada5-a69ab672ac81",
   "metadata": {
    "execution": {
     "iopub.execute_input": "2023-09-29T22:20:37.107499Z",
     "iopub.status.busy": "2023-09-29T22:20:37.107232Z",
     "iopub.status.idle": "2023-09-29T22:20:37.156994Z",
     "shell.execute_reply": "2023-09-29T22:20:37.155774Z",
     "shell.execute_reply.started": "2023-09-29T22:20:37.107479Z"
    }
   },
   "outputs": [
    {
     "name": "stdout",
     "output_type": "stream",
     "text": [
      "Accuracy:  59.0 %\n",
      "Recall:  58.0 %\n",
      "Precision:  6.0 %\n"
     ]
    },
    {
     "data": {
      "text/html": [
       "<style type=\"text/css\">\n",
       "#T_02e1d .true {\n",
       "  background-color: #e6ffe6;\n",
       "}\n",
       "#T_02e1d .false {\n",
       "  background-color: #ffe6e6;\n",
       "}\n",
       "</style>\n",
       "<table id=\"T_02e1d\">\n",
       "  <caption>Confusion Matrix</caption>\n",
       "  <thead>\n",
       "    <tr>\n",
       "      <th class=\"blank level0\" >&nbsp;</th>\n",
       "      <th id=\"T_02e1d_level0_col0\" class=\"col_heading level0 col0\" >0</th>\n",
       "      <th id=\"T_02e1d_level0_col1\" class=\"col_heading level0 col1\" >1</th>\n",
       "    </tr>\n",
       "  </thead>\n",
       "  <tbody>\n",
       "    <tr>\n",
       "      <th id=\"T_02e1d_level0_row0\" class=\"row_heading level0 row0\" >0</th>\n",
       "      <td id=\"T_02e1d_row0_col0\" class=\"data row0 col0 true \" >96.777717</td>\n",
       "      <td id=\"T_02e1d_row0_col1\" class=\"data row0 col1 false \" >93.778111</td>\n",
       "    </tr>\n",
       "    <tr>\n",
       "      <th id=\"T_02e1d_level0_row1\" class=\"row_heading level0 row1\" >1</th>\n",
       "      <td id=\"T_02e1d_row1_col0\" class=\"data row1 col0 false \" >3.222283</td>\n",
       "      <td id=\"T_02e1d_row1_col1\" class=\"data row1 col1 true \" >6.221889</td>\n",
       "    </tr>\n",
       "  </tbody>\n",
       "</table>\n"
      ],
      "text/plain": [
       "<pandas.io.formats.style.Styler at 0x7fa8498abf70>"
      ]
     },
     "execution_count": 13,
     "metadata": {},
     "output_type": "execute_result"
    }
   ],
   "source": [
    "y_pred_test = rf.predict(X_test)\n",
    "acc, recall, prec = rf_metrics(y_test, y_pred_test)\n",
    "conf_matrix_df = confusion_matrix(y_test, y_pred_test)\n",
    "style_cm(conf_matrix_df)"
   ]
  },
  {
   "cell_type": "markdown",
   "id": "9a83f074-7fad-456b-9ae3-dd16b50870a1",
   "metadata": {},
   "source": [
    "## Generate figures for write up "
   ]
  },
  {
   "cell_type": "code",
   "execution_count": 14,
   "id": "825b9ea9-2d75-454d-a5bf-55a0d261517b",
   "metadata": {
    "execution": {
     "iopub.execute_input": "2023-09-29T22:20:37.158456Z",
     "iopub.status.busy": "2023-09-29T22:20:37.157948Z",
     "iopub.status.idle": "2023-09-29T22:20:37.180072Z",
     "shell.execute_reply": "2023-09-29T22:20:37.177778Z",
     "shell.execute_reply.started": "2023-09-29T22:20:37.158383Z"
    }
   },
   "outputs": [
    {
     "data": {
      "text/html": [
       "<style type=\"text/css\">\n",
       "</style>\n",
       "<table id=\"T_dbef4\">\n",
       "  <caption>Hyperparameters</caption>\n",
       "  <thead>\n",
       "    <tr>\n",
       "      <th class=\"blank level0\" >&nbsp;</th>\n",
       "      <th id=\"T_dbef4_level0_col0\" class=\"col_heading level0 col0\" >value</th>\n",
       "    </tr>\n",
       "  </thead>\n",
       "  <tbody>\n",
       "    <tr>\n",
       "      <th id=\"T_dbef4_level0_row0\" class=\"row_heading level0 row0\" >tree_number</th>\n",
       "      <td id=\"T_dbef4_row0_col0\" class=\"data row0 col0\" >17</td>\n",
       "    </tr>\n",
       "    <tr>\n",
       "      <th id=\"T_dbef4_level0_row1\" class=\"row_heading level0 row1\" >tree_depth</th>\n",
       "      <td id=\"T_dbef4_row1_col0\" class=\"data row1 col0\" >9</td>\n",
       "    </tr>\n",
       "    <tr>\n",
       "      <th id=\"T_dbef4_level0_row2\" class=\"row_heading level0 row2\" >node_split</th>\n",
       "      <td id=\"T_dbef4_row2_col0\" class=\"data row2 col0\" >28</td>\n",
       "    </tr>\n",
       "    <tr>\n",
       "      <th id=\"T_dbef4_level0_row3\" class=\"row_heading level0 row3\" >leaf_samples</th>\n",
       "      <td id=\"T_dbef4_row3_col0\" class=\"data row3 col0\" >1</td>\n",
       "    </tr>\n",
       "    <tr>\n",
       "      <th id=\"T_dbef4_level0_row4\" class=\"row_heading level0 row4\" >criterion</th>\n",
       "      <td id=\"T_dbef4_row4_col0\" class=\"data row4 col0\" >gini</td>\n",
       "    </tr>\n",
       "    <tr>\n",
       "      <th id=\"T_dbef4_level0_row5\" class=\"row_heading level0 row5\" >bootstrap</th>\n",
       "      <td id=\"T_dbef4_row5_col0\" class=\"data row5 col0\" >False</td>\n",
       "    </tr>\n",
       "    <tr>\n",
       "      <th id=\"T_dbef4_level0_row6\" class=\"row_heading level0 row6\" >max_samples</th>\n",
       "      <td id=\"T_dbef4_row6_col0\" class=\"data row6 col0\" >None</td>\n",
       "    </tr>\n",
       "    <tr>\n",
       "      <th id=\"T_dbef4_level0_row7\" class=\"row_heading level0 row7\" >random_state</th>\n",
       "      <td id=\"T_dbef4_row7_col0\" class=\"data row7 col0\" >13</td>\n",
       "    </tr>\n",
       "    <tr>\n",
       "      <th id=\"T_dbef4_level0_row8\" class=\"row_heading level0 row8\" >class_weight</th>\n",
       "      <td id=\"T_dbef4_row8_col0\" class=\"data row8 col0\" >{0:0.05, 1:0.95}</td>\n",
       "    </tr>\n",
       "  </tbody>\n",
       "</table>\n"
      ],
      "text/plain": [
       "<pandas.io.formats.style.Styler at 0x7fa848867c40>"
      ]
     },
     "execution_count": 14,
     "metadata": {},
     "output_type": "execute_result"
    }
   ],
   "source": [
    "def make_pretty(styler):\n",
    "    styler.set_caption(\"Hyperparameters\")\n",
    "    return styler\n",
    "\n",
    "hp_df = pd.DataFrame(hyperparameters, index={\"value\":[0],}).T\n",
    "hp_df.style.pipe(make_pretty)"
   ]
  }
 ],
 "metadata": {
  "kernelspec": {
   "display_name": "Python 3 (ipykernel)",
   "language": "python",
   "name": "python3"
  },
  "language_info": {
   "codemirror_mode": {
    "name": "ipython",
    "version": 3
   },
   "file_extension": ".py",
   "mimetype": "text/x-python",
   "name": "python",
   "nbconvert_exporter": "python",
   "pygments_lexer": "ipython3",
   "version": "3.10.12"
  }
 },
 "nbformat": 4,
 "nbformat_minor": 5
}
